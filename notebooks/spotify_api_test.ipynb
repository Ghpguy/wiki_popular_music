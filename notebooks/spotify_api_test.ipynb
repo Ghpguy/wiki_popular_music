{
 "cells": [
  {
   "cell_type": "code",
   "execution_count": null,
   "id": "fe75f734",
   "metadata": {},
   "outputs": [],
   "source": [
    "import requests\n",
    "\n",
    "from pathlib import Path\n",
    "import pandas as pd\n",
    "# Get the path to the repo root (assuming notebook is in root or subfolder)\n",
    "notebook_dir = Path().resolve()  # current working directory\n",
    "# Go up one level to repo root\n",
    "repo_root = notebook_dir.parent\n",
    "\n",
    "url = \"https://accounts.spotify.com/api/token\"\n",
    "\n",
    "payload = {\n",
    "    \"grant_type\": \"client_credentials\",\n",
    "    \"client_id\": \"XXXXXXXXXX\",\n",
    "    \"client_secret\": \"XXXXXXXXXX\"\n",
    "}\n",
    "\n",
    "headers = {\n",
    "    \"Content-Type\": \"application/x-www-form-urlencoded\"\n",
    "}"
   ]
  },
  {
   "cell_type": "code",
   "execution_count": 4,
   "id": "cfb5f605",
   "metadata": {},
   "outputs": [
    {
     "data": {
      "text/html": [
       "<div>\n",
       "<style scoped>\n",
       "    .dataframe tbody tr th:only-of-type {\n",
       "        vertical-align: middle;\n",
       "    }\n",
       "\n",
       "    .dataframe tbody tr th {\n",
       "        vertical-align: top;\n",
       "    }\n",
       "\n",
       "    .dataframe thead th {\n",
       "        text-align: right;\n",
       "    }\n",
       "</style>\n",
       "<table border=\"1\" class=\"dataframe\">\n",
       "  <thead>\n",
       "    <tr style=\"text-align: right;\">\n",
       "      <th></th>\n",
       "      <th>Top Ten Entry Date</th>\n",
       "      <th>Single Name</th>\n",
       "      <th>Artist(s)</th>\n",
       "      <th>Peak</th>\n",
       "      <th>Peak Date</th>\n",
       "      <th>Weeks in Top Ten</th>\n",
       "      <th>Ref</th>\n",
       "      <th>Year</th>\n",
       "    </tr>\n",
       "  </thead>\n",
       "  <tbody>\n",
       "    <tr>\n",
       "      <th>0</th>\n",
       "      <td>1960-12-12</td>\n",
       "      <td>Wonderland by Night</td>\n",
       "      <td>Bert Kaempfert</td>\n",
       "      <td>1</td>\n",
       "      <td>1961-01-09</td>\n",
       "      <td>10</td>\n",
       "      <td>NaN</td>\n",
       "      <td>1960</td>\n",
       "    </tr>\n",
       "    <tr>\n",
       "      <th>1</th>\n",
       "      <td>1960-12-12</td>\n",
       "      <td>Exodus</td>\n",
       "      <td>Ferrante &amp; Teicher</td>\n",
       "      <td>2</td>\n",
       "      <td>1961-01-23</td>\n",
       "      <td>11</td>\n",
       "      <td>NaN</td>\n",
       "      <td>1960</td>\n",
       "    </tr>\n",
       "    <tr>\n",
       "      <th>2</th>\n",
       "      <td>1960-12-26</td>\n",
       "      <td>Corrina, Corinna</td>\n",
       "      <td>Ray Peterson</td>\n",
       "      <td>9</td>\n",
       "      <td>1961-01-09</td>\n",
       "      <td>5</td>\n",
       "      <td>NaN</td>\n",
       "      <td>1960</td>\n",
       "    </tr>\n",
       "    <tr>\n",
       "      <th>3</th>\n",
       "      <td>1960-12-31</td>\n",
       "      <td>Angel Baby</td>\n",
       "      <td>Rosie and the Originals</td>\n",
       "      <td>5</td>\n",
       "      <td>1961-01-23</td>\n",
       "      <td>7</td>\n",
       "      <td>NaN</td>\n",
       "      <td>1960</td>\n",
       "    </tr>\n",
       "    <tr>\n",
       "      <th>4</th>\n",
       "      <td>1961-01-09</td>\n",
       "      <td>Will You Love Me Tomorrow</td>\n",
       "      <td>The Shirelles</td>\n",
       "      <td>1</td>\n",
       "      <td>1961-01-30</td>\n",
       "      <td>7</td>\n",
       "      <td>NaN</td>\n",
       "      <td>1961</td>\n",
       "    </tr>\n",
       "  </tbody>\n",
       "</table>\n",
       "</div>"
      ],
      "text/plain": [
       "  Top Ten Entry Date                Single Name                Artist(s)  \\\n",
       "0         1960-12-12        Wonderland by Night           Bert Kaempfert   \n",
       "1         1960-12-12                     Exodus       Ferrante & Teicher   \n",
       "2         1960-12-26           Corrina, Corinna             Ray Peterson   \n",
       "3         1960-12-31                 Angel Baby  Rosie and the Originals   \n",
       "4         1961-01-09  Will You Love Me Tomorrow            The Shirelles   \n",
       "\n",
       "   Peak   Peak Date  Weeks in Top Ten  Ref  Year  \n",
       "0     1  1961-01-09                10  NaN  1960  \n",
       "1     2  1961-01-23                11  NaN  1960  \n",
       "2     9  1961-01-09                 5  NaN  1960  \n",
       "3     5  1961-01-23                 7  NaN  1960  \n",
       "4     1  1961-01-30                 7  NaN  1961  "
      ]
     },
     "execution_count": 4,
     "metadata": {},
     "output_type": "execute_result"
    }
   ],
   "source": [
    "# Load data\n",
    "# Path to CSV\n",
    "csv_path = repo_root / \"data\" / \"billboard_data_2025_09.csv\"\n",
    "\n",
    "# Load the CSV\n",
    "df = pd.read_csv(csv_path)\n",
    "df.head()"
   ]
  },
  {
   "cell_type": "code",
   "execution_count": 12,
   "id": "f5b82dcc",
   "metadata": {},
   "outputs": [
    {
     "name": "stdout",
     "output_type": "stream",
     "text": [
      "Access token: redacted_for_security\n"
     ]
    }
   ],
   "source": [
    "response = requests.post(url, data=payload, headers=headers)\n",
    "\n",
    "if response.status_code == 200:\n",
    "    token_info = response.json()\n",
    "    access_token = token_info[\"access_token\"]\n",
    "    print(\"Access token:\", \"redacted_for_security\")\n",
    "else:\n",
    "    print(\"Error:\", response.status_code, response.text)"
   ]
  },
  {
   "cell_type": "code",
   "execution_count": 11,
   "id": "10d62c1e",
   "metadata": {},
   "outputs": [
    {
     "name": "stdout",
     "output_type": "stream",
     "text": [
      "{'tracks': {'href': 'https://api.spotify.com/v1/search?offset=0&limit=1&query=track%3AJolene%20artist%3ABeyonce&type=track', 'limit': 1, 'next': 'https://api.spotify.com/v1/search?offset=1&limit=1&query=track%3AJolene%20artist%3ABeyonce&type=track', 'offset': 0, 'previous': None, 'total': 2, 'items': [{'album': {'album_type': 'album', 'artists': [{'external_urls': {'spotify': 'https://open.spotify.com/artist/6vWDO969PvNqNYHIOW5v0m'}, 'href': 'https://api.spotify.com/v1/artists/6vWDO969PvNqNYHIOW5v0m', 'id': '6vWDO969PvNqNYHIOW5v0m', 'name': 'Beyoncé', 'type': 'artist', 'uri': 'spotify:artist:6vWDO969PvNqNYHIOW5v0m'}], 'available_markets': ['AR', 'AU', 'AT', 'BE', 'BO', 'BR', 'BG', 'CA', 'CL', 'CO', 'CR', 'CY', 'CZ', 'DK', 'DO', 'DE', 'EC', 'EE', 'SV', 'FI', 'FR', 'GR', 'GT', 'HN', 'HK', 'HU', 'IS', 'IE', 'IT', 'LV', 'LT', 'LU', 'MY', 'MT', 'MX', 'NL', 'NZ', 'NI', 'NO', 'PA', 'PY', 'PE', 'PH', 'PL', 'PT', 'SG', 'SK', 'ES', 'SE', 'CH', 'TW', 'TR', 'UY', 'US', 'GB', 'AD', 'LI', 'MC', 'ID', 'JP', 'TH', 'VN', 'RO', 'IL', 'ZA', 'SA', 'AE', 'BH', 'QA', 'OM', 'KW', 'EG', 'MA', 'DZ', 'TN', 'LB', 'JO', 'PS', 'IN', 'BY', 'KZ', 'MD', 'UA', 'AL', 'BA', 'HR', 'ME', 'MK', 'RS', 'SI', 'KR', 'BD', 'PK', 'LK', 'GH', 'KE', 'NG', 'TZ', 'UG', 'AG', 'AM', 'BS', 'BB', 'BZ', 'BT', 'BW', 'BF', 'CV', 'CW', 'DM', 'FJ', 'GM', 'GE', 'GD', 'GW', 'GY', 'HT', 'JM', 'KI', 'LS', 'LR', 'MW', 'MV', 'ML', 'MH', 'FM', 'NA', 'NR', 'NE', 'PW', 'PG', 'PR', 'WS', 'SM', 'ST', 'SN', 'SC', 'SL', 'SB', 'KN', 'LC', 'VC', 'SR', 'TL', 'TO', 'TT', 'TV', 'VU', 'AZ', 'BN', 'BI', 'KH', 'CM', 'TD', 'KM', 'GQ', 'SZ', 'GA', 'GN', 'KG', 'LA', 'MO', 'MR', 'MN', 'NP', 'RW', 'TG', 'UZ', 'ZW', 'BJ', 'MG', 'MU', 'MZ', 'AO', 'CI', 'DJ', 'ZM', 'CD', 'CG', 'IQ', 'LY', 'TJ', 'VE', 'ET', 'XK'], 'external_urls': {'spotify': 'https://open.spotify.com/album/6BzxX6zkDsYKFJ04ziU5xQ'}, 'href': 'https://api.spotify.com/v1/albums/6BzxX6zkDsYKFJ04ziU5xQ', 'id': '6BzxX6zkDsYKFJ04ziU5xQ', 'images': [{'height': 640, 'width': 640, 'url': 'https://i.scdn.co/image/ab67616d0000b2731572698fff8a1db257a53599'}, {'height': 300, 'width': 300, 'url': 'https://i.scdn.co/image/ab67616d00001e021572698fff8a1db257a53599'}, {'height': 64, 'width': 64, 'url': 'https://i.scdn.co/image/ab67616d000048511572698fff8a1db257a53599'}], 'is_playable': True, 'name': 'COWBOY CARTER', 'release_date': '2024-03-29', 'release_date_precision': 'day', 'total_tracks': 27, 'type': 'album', 'uri': 'spotify:album:6BzxX6zkDsYKFJ04ziU5xQ'}, 'artists': [{'external_urls': {'spotify': 'https://open.spotify.com/artist/6vWDO969PvNqNYHIOW5v0m'}, 'href': 'https://api.spotify.com/v1/artists/6vWDO969PvNqNYHIOW5v0m', 'id': '6vWDO969PvNqNYHIOW5v0m', 'name': 'Beyoncé', 'type': 'artist', 'uri': 'spotify:artist:6vWDO969PvNqNYHIOW5v0m'}], 'available_markets': ['AR', 'AU', 'AT', 'BE', 'BO', 'BR', 'BG', 'CA', 'CL', 'CO', 'CR', 'CY', 'CZ', 'DK', 'DO', 'DE', 'EC', 'EE', 'SV', 'FI', 'FR', 'GR', 'GT', 'HN', 'HK', 'HU', 'IS', 'IE', 'IT', 'LV', 'LT', 'LU', 'MY', 'MT', 'MX', 'NL', 'NZ', 'NI', 'NO', 'PA', 'PY', 'PE', 'PH', 'PL', 'PT', 'SG', 'SK', 'ES', 'SE', 'CH', 'TW', 'TR', 'UY', 'US', 'GB', 'AD', 'LI', 'MC', 'ID', 'JP', 'TH', 'VN', 'RO', 'IL', 'ZA', 'SA', 'AE', 'BH', 'QA', 'OM', 'KW', 'EG', 'MA', 'DZ', 'TN', 'LB', 'JO', 'PS', 'IN', 'BY', 'KZ', 'MD', 'UA', 'AL', 'BA', 'HR', 'ME', 'MK', 'RS', 'SI', 'KR', 'BD', 'PK', 'LK', 'GH', 'KE', 'NG', 'TZ', 'UG', 'AG', 'AM', 'BS', 'BB', 'BZ', 'BT', 'BW', 'BF', 'CV', 'CW', 'DM', 'FJ', 'GM', 'GE', 'GD', 'GW', 'GY', 'HT', 'JM', 'KI', 'LS', 'LR', 'MW', 'MV', 'ML', 'MH', 'FM', 'NA', 'NR', 'NE', 'PW', 'PG', 'PR', 'WS', 'SM', 'ST', 'SN', 'SC', 'SL', 'SB', 'KN', 'LC', 'VC', 'SR', 'TL', 'TO', 'TT', 'TV', 'VU', 'AZ', 'BN', 'BI', 'KH', 'CM', 'TD', 'KM', 'GQ', 'SZ', 'GA', 'GN', 'KG', 'LA', 'MO', 'MR', 'MN', 'NP', 'RW', 'TG', 'UZ', 'ZW', 'BJ', 'MG', 'MU', 'MZ', 'AO', 'CI', 'DJ', 'ZM', 'CD', 'CG', 'IQ', 'LY', 'TJ', 'VE', 'ET', 'XK'], 'disc_number': 1, 'duration_ms': 189638, 'explicit': False, 'external_ids': {'isrc': 'USSM12402711'}, 'external_urls': {'spotify': 'https://open.spotify.com/track/2PmMh2t7jAtN6cqFooA0Xy'}, 'href': 'https://api.spotify.com/v1/tracks/2PmMh2t7jAtN6cqFooA0Xy', 'id': '2PmMh2t7jAtN6cqFooA0Xy', 'is_local': False, 'is_playable': True, 'name': 'JOLENE', 'popularity': 63, 'preview_url': None, 'track_number': 10, 'type': 'track', 'uri': 'spotify:track:2PmMh2t7jAtN6cqFooA0Xy'}]}}\n",
      "{'external_urls': {'spotify': 'https://open.spotify.com/artist/6vWDO969PvNqNYHIOW5v0m'}, 'followers': {'href': None, 'total': 40922681}, 'genres': [], 'href': 'https://api.spotify.com/v1/artists/6vWDO969PvNqNYHIOW5v0m', 'id': '6vWDO969PvNqNYHIOW5v0m', 'images': [{'url': 'https://i.scdn.co/image/ab6761610000e5eb7eaa373538359164b843f7c0', 'height': 640, 'width': 640}, {'url': 'https://i.scdn.co/image/ab676161000051747eaa373538359164b843f7c0', 'height': 320, 'width': 320}, {'url': 'https://i.scdn.co/image/ab6761610000f1787eaa373538359164b843f7c0', 'height': 160, 'width': 160}], 'name': 'Beyoncé', 'popularity': 88, 'type': 'artist', 'uri': 'spotify:artist:6vWDO969PvNqNYHIOW5v0m'}\n",
      "Song: JOLENE\n",
      "Artist genres: []\n"
     ]
    }
   ],
   "source": [
    "#Search for the track by title + artist\n",
    "def search_track(song_title, artist_name):\n",
    "    search_url = \"https://api.spotify.com/v1/search\"\n",
    "    headers = {\"Authorization\": f\"Bearer {access_token}\"}\n",
    "    query = f\"track:{song_title} artist:{artist_name}\"\n",
    "    params = {\"q\": query, \"type\": \"track\", \"limit\": 1}\n",
    "\n",
    "    response = requests.get(search_url, headers=headers, params=params)\n",
    "    print(response.json())\n",
    "    items = response.json().get(\"tracks\", {}).get(\"items\", [])\n",
    "    \n",
    "    if items:\n",
    "        track = items[0]\n",
    "        track_name = track[\"name\"]\n",
    "        artist_id = track[\"artists\"][0][\"id\"]\n",
    "        return track_name, artist_id\n",
    "    else:\n",
    "        return None, None\n",
    "\n",
    "# Step 3: Get artist genres\n",
    "def get_artist_genres(artist_id):\n",
    "    artist_url = f\"https://api.spotify.com/v1/artists/{artist_id}\"\n",
    "    headers = {\"Authorization\": f\"Bearer {access_token}\"}\n",
    "    response = requests.get(artist_url, headers=headers)\n",
    "    print(response.json())\n",
    "    return response.json().get(\"genres\", [])\n",
    "\n",
    "# Example usage\n",
    "song = \"Jolene\"\n",
    "artist = \"Beyonce\"\n",
    "\n",
    "track_name, artist_id = search_track(song, artist)\n",
    "if artist_id:\n",
    "    genres = get_artist_genres(artist_id)\n",
    "    print(f\"Song: {track_name}\")\n",
    "    print(f\"Artist genres: {genres}\")\n",
    "else:\n",
    "    print(\"Track not found\")"
   ]
  },
  {
   "cell_type": "code",
   "execution_count": null,
   "id": "181758ad",
   "metadata": {},
   "outputs": [],
   "source": [
    "#after testing, it seems spotify's API is unable to reliably find the genres of songs..."
   ]
  }
 ],
 "metadata": {
  "kernelspec": {
   "display_name": "Python 3",
   "language": "python",
   "name": "python3"
  },
  "language_info": {
   "codemirror_mode": {
    "name": "ipython",
    "version": 3
   },
   "file_extension": ".py",
   "mimetype": "text/x-python",
   "name": "python",
   "nbconvert_exporter": "python",
   "pygments_lexer": "ipython3",
   "version": "3.11.6"
  }
 },
 "nbformat": 4,
 "nbformat_minor": 5
}
